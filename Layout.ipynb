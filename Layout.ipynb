{
 "cells": [
  {
   "cell_type": "markdown",
   "metadata": {},
   "source": [
    "______________________________________________________________________________________________________________________\n",
    "\n",
    "\n",
    "# Sponsored skilled worker visa statistics\n",
    "\n",
    "_______________________________________________________________________________________________________________________\n",
    "                                                                        year ending March 2024\n",
    "\n",
    "________________<br>\n",
    "[ __Grants__ ]<br>\n",
    "________________<br>\n",
    "\n",
    "Nationality: [Nationality]<br>\n",
    "Year: [Year]<br>\n",
    "Industry:[Industry]<br>\n",
    "Region: [Region]<br>\n",
    "Occupation: [Occupation]<br>\n",
    "\n",
    "Search by Occupation group: <br>\n",
    "Occupation major group: [Occ. major group]<br>\n",
    "Occupation sub-major group: [sub-major group]<br>\n",
    "Occupation minor group: [minor group]<br>\n",
    "Occupation unit group: [unit group]<br>\n",
    "\n",
    "____________________<br>\n",
    "[ __Applications__ ]<br>\n",
    "____________________<br>\n",
    "\n",
    "Nationality: [Nationality]<br>\n",
    "Year: [Year]<br>\n",
    "Industry:[Industry]<br>\n",
    "Region: [Region]<br>\n",
    "Occupation: [Occupation]<br>\n",
    "\n",
    "Search by Occupation group: <br>\n",
    "Occupation major group: [Occ. major group]<br>\n",
    "Occupation sub-major group: [sub-major group]<br>\n",
    "Occupation minor group: [minor group]<br>\n",
    "Occupation unit group: [unit group]<br>"
   ]
  }
 ],
 "metadata": {
  "language_info": {
   "name": "python"
  }
 },
 "nbformat": 4,
 "nbformat_minor": 2
}
