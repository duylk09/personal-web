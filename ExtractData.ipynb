{
 "cells": [
  {
   "cell_type": "markdown",
   "metadata": {},
   "source": [
    "Read the column Nationality in sheet Data_Occ_D01 from excel file. Then select the data from selected columns"
   ]
  },
  {
   "cell_type": "code",
   "execution_count": 3,
   "metadata": {},
   "outputs": [
    {
     "name": "stdout",
     "output_type": "stream",
     "text": [
      "               Visa type                                         Occupation\n",
      "3543              Worker       1135 - Human resource managers and directors\n",
      "3544              Worker                         2113 - Physical scientists\n",
      "3545              Worker  2119 - Natural and social science professional...\n",
      "3546              Worker  2119 - Natural and social science professional...\n",
      "3547              Worker  2135 - IT business analysts, architects and sy...\n",
      "...                  ...                                                ...\n",
      "104690  Temporary Worker         3413 - Actors, entertainers and presenters\n",
      "104691  Temporary Worker  2119 - Natural and social science professional...\n",
      "104692  Temporary Worker  3534 - Finance and investment analysts and adv...\n",
      "104693  Temporary Worker                                      2444 - Clergy\n",
      "104694  Temporary Worker                                      2444 - Clergy\n",
      "\n",
      "[348 rows x 2 columns]\n"
     ]
    }
   ],
   "source": [
    "import pandas as pd\n",
    "\n",
    "file_path = 'occupation-visas-datasets-mar-24.xlsx'\n",
    "sheet_name = 'Data_Occ_D01'\n",
    "header_row = 1\n",
    "\n",
    "df = pd.read_excel(file_path,sheet_name=sheet_name,header=header_row)\n",
    "\n",
    "# if 'Nationality' in df.columns:\n",
    "#     nationality = df['Nationality']\n",
    "#     print(nationality)\n",
    "\n",
    "vietnam_df = df[df['Nationality'] == 'Vietnam']\n",
    "\n",
    "selected_columns = ['Visa type','Occupation']\n",
    "\n",
    "\n",
    "print(vietnam_df[selected_columns])"
   ]
  },
  {
   "cell_type": "markdown",
   "metadata": {},
   "source": [
    "Search the number of applications from an input of nationality (Vietnam)"
   ]
  },
  {
   "cell_type": "code",
   "execution_count": 4,
   "metadata": {},
   "outputs": [
    {
     "name": "stdout",
     "output_type": "stream",
     "text": [
      "Applications    689.0\n",
      "dtype: float64\n"
     ]
    }
   ],
   "source": [
    "selected_columns = ['Applications']\n",
    "\n",
    "print(vietnam_df[selected_columns].sum())"
   ]
  },
  {
   "cell_type": "markdown",
   "metadata": {},
   "source": [
    "Search for applications from Vietnam and Education industry"
   ]
  },
  {
   "cell_type": "code",
   "execution_count": 5,
   "metadata": {},
   "outputs": [
    {
     "name": "stdout",
     "output_type": "stream",
     "text": [
      "Applications    107.0\n",
      "dtype: float64\n"
     ]
    }
   ],
   "source": [
    "vietnam_df = df[(df['Nationality'] == 'Vietnam') & (df['Industry'] == 'Education')]\n",
    "\n",
    "print(vietnam_df[selected_columns].sum())"
   ]
  },
  {
   "cell_type": "markdown",
   "metadata": {},
   "source": [
    "Display a graph with Year, Nationality, Industry, Applications with fix Nationality = Vietnam, Industry = Education"
   ]
  },
  {
   "cell_type": "code",
   "execution_count": 16,
   "metadata": {},
   "outputs": [
    {
     "name": "stderr",
     "output_type": "stream",
     "text": [
      "C:\\Users\\duyle\\AppData\\Local\\Temp\\ipykernel_14972\\2140502248.py:3: SettingWithCopyWarning: \n",
      "A value is trying to be set on a copy of a slice from a DataFrame.\n",
      "Try using .loc[row_indexer,col_indexer] = value instead\n",
      "\n",
      "See the caveats in the documentation: https://pandas.pydata.org/pandas-docs/stable/user_guide/indexing.html#returning-a-view-versus-a-copy\n",
      "  vietnam_df['Year'] = vietnam_df['Year'].astype(str)\n",
      "C:\\Users\\duyle\\AppData\\Local\\Temp\\ipykernel_14972\\2140502248.py:4: SettingWithCopyWarning: \n",
      "A value is trying to be set on a copy of a slice from a DataFrame.\n",
      "Try using .loc[row_indexer,col_indexer] = value instead\n",
      "\n",
      "See the caveats in the documentation: https://pandas.pydata.org/pandas-docs/stable/user_guide/indexing.html#returning-a-view-versus-a-copy\n",
      "  vietnam_df['Applications'] = pd.to_numeric(vietnam_df['Applications'], errors = 'coerce')\n"
     ]
    },
    {
     "data": {
      "image/png": "[encoded data removed]",
      "text/plain": [
       "<Figure size 1000x600 with 1 Axes>"
      ]
     },
     "metadata": {},
     "output_type": "display_data"
    }
   ],
   "source": [
    "import matplotlib.pyplot as plt\n",
    "\n",
    "vietnam_df['Year'] = vietnam_df['Year'].astype(str)\n",
    "vietnam_df['Applications'] = pd.to_numeric(vietnam_df['Applications'], errors = 'coerce')\n",
    "\n",
    "grouped_df = vietnam_df.groupby('Year', as_index=False)['Applications'].sum()\n",
    "# selected_columns = ['Year','Applications']\n",
    "\n",
    "# print(vietnam_df[selected_columns])\n",
    "\n",
    "plt.figure(figsize=(10, 6))\n",
    "plt.bar(grouped_df['Year'],grouped_df['Applications'], color='blue')\n",
    "plt.xlabel('Year')\n",
    "plt.ylabel('Applications')\n",
    "plt.title('The number of applications from Vietnam')\n",
    "plt.xticks(rotation=45)\n",
    "plt.tight_layout()\n",
    "\n",
    "plt.show()"
   ]
  }
 ],
 "metadata": {
  "kernelspec": {
   "display_name": ".venv",
   "language": "python",
   "name": "python3"
  },
  "language_info": {
   "codemirror_mode": {
    "name": "ipython",
    "version": 3
   },
   "file_extension": ".py",
   "mimetype": "text/x-python",
   "name": "python",
   "nbconvert_exporter": "python",
   "pygments_lexer": "ipython3",
   "version": "3.12.5"
  }
 },
 "nbformat": 4,
 "nbformat_minor": 2
}
