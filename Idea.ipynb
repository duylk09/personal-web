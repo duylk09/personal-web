{
 "cells": [
  {
   "cell_type": "markdown",
   "metadata": {},
   "source": [
    "## SUMMARY\n",
    "This is a project which provides related immigration information where the users can search for data of skilled workers visa applications or grants of entry clearance visa etc.\n",
    "\n",
    "## List of fields\n",
    "Year / Quarter: The period in which a visa application or grant was made.<br>\n",
    "Visa type: The type of sponsored work visa applied for.<br>\n",
    "Visa type subgroup: Detailed type of sponsored work visa applied for.<br>\n",
    "Nationality: Nationality of the visa applicant.<br>\n",
    "Region: World region of the country of nationality for the visa applicant.<br>\n",
    "Occupation: The occupation a visa applicant has been sponsored for. Contains the Standard Occupational Classification (SOC) code and detailed occupation at the 4-character level.<br>\n",
    "Industry: The industry sector for which the application to work was made.<br>\n",
    "SOC code: The Standard Occupational Classification code.<br>\n",
    "Occ. major group: The highest grouping of occupation, at the 1-character SOC code level.<br>\n",
    "Occ. sub-major group: The second highest grouping of occupation, at the 2-character SOC code level.<br>\n",
    "Occ. minor group: The third highest grouping of occupation, at the 3-character SOC code level.<br>\n",
    "Occ. unit group: The most detailed grouping of occupation, at the 4-character SOC code level.<br>\n",
    "Applications: The number of visa applications made.<br>\n",
    "Grants: The number of visa applications granted.<br>\n",
    "\n",
    "### Functions\n",
    "Design the functions according to available list of fields. There are two main filters which are searching for visa application and grants => can design two different pages/tabs<br>\n",
    "\n",
    "According to the initial purpose and audience of this project, skilled worker visa types (skilled worker visa and skilled worker visa - Health & Care) are the fixed visa type subgroup. Users will need to use other filters(year/quarter, visa type, nationality, region, occupation, industry, SOC code, Occ. major group, Occ. sub-major group, Occ. minor group, Occ. unit group) from list of fields to search for the number of applications or grants.<br>\n",
    "\n",
    "In order to make a difference from the existing exel file provided by Home Office. The page would be easy to use with users who want to search information base on their occupations and who want to see in a wider view using Occ. group\n",
    "\n"
   ]
  }
 ],
 "metadata": {
  "kernelspec": {
   "display_name": ".venv",
   "language": "python",
   "name": "python3"
  },
  "language_info": {
   "codemirror_mode": {
    "name": "ipython",
    "version": 3
   },
   "file_extension": ".py",
   "mimetype": "text/x-python",
   "name": "python",
   "nbconvert_exporter": "python",
   "pygments_lexer": "ipython3",
   "version": "3.12.4"
  }
 },
 "nbformat": 4,
 "nbformat_minor": 2
}
