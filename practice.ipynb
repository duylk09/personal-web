{
 "cells": [
  {
   "cell_type": "markdown",
   "metadata": {},
   "source": [
    "Exercise 1: Reverse a String\n",
    "Task: Write a function reverse_string(s) that takes a string s and returns the string reversed."
   ]
  },
  {
   "cell_type": "code",
   "execution_count": 5,
   "metadata": {},
   "outputs": [
    {
     "name": "stdout",
     "output_type": "stream",
     "text": [
      "olleh\n"
     ]
    }
   ],
   "source": [
    "def reverse_string(s):\n",
    "    return s[::-1]\n",
    "\n",
    "print(reverse_string('hello'))"
   ]
  },
  {
   "cell_type": "markdown",
   "metadata": {},
   "source": [
    "Exercise 2: Check if a Number is Prime\n",
    "Task: Write a function is_prime(n) that checks if a number n is a prime number."
   ]
  },
  {
   "cell_type": "code",
   "execution_count": 11,
   "metadata": {},
   "outputs": [
    {
     "name": "stdout",
     "output_type": "stream",
     "text": [
      "False\n"
     ]
    }
   ],
   "source": [
    "def is_prime(n):\n",
    "    for i in range(2,n):\n",
    "        if n%i == 0: \n",
    "            return False\n",
    "    return True\n",
    "\n",
    "print(is_prime(14))\n",
    "\n"
   ]
  },
  {
   "cell_type": "markdown",
   "metadata": {},
   "source": [
    "Exercise 4: Find the Largest Element in a List\n",
    "Task: Write a function find_max(lst) that returns the largest element in a list."
   ]
  },
  {
   "cell_type": "code",
   "execution_count": 13,
   "metadata": {},
   "outputs": [
    {
     "name": "stdout",
     "output_type": "stream",
     "text": [
      "11\n"
     ]
    }
   ],
   "source": [
    "def find_max(lst):\n",
    "    mxlst = lst[0]\n",
    "    for i in lst:\n",
    "        if mxlst < i:\n",
    "            mxlst = i\n",
    "    return mxlst\n",
    "\n",
    "lst = [0,1,2,11,4,5,6,7]\n",
    "print(find_max(lst))\n"
   ]
  },
  {
   "cell_type": "markdown",
   "metadata": {},
   "source": [
    "Exercise 5: Count the Vowels in a String\n",
    "Task: Write a function count_vowels(s) that counts the number of vowels in a string."
   ]
  },
  {
   "cell_type": "code",
   "execution_count": 22,
   "metadata": {},
   "outputs": [
    {
     "name": "stdout",
     "output_type": "stream",
     "text": [
      "4\n"
     ]
    }
   ],
   "source": [
    "def is_vowels(s):\n",
    "    if s in 'ueoaiUEOAI':\n",
    "        return True\n",
    "    return False\n",
    "\n",
    "def count_vowels(s):\n",
    "    count = 0\n",
    "    for char in s:\n",
    "        if is_vowels(char) == True: count += 1\n",
    "    return count\n",
    "\n",
    "print(count_vowels(\"helloie\"))\n"
   ]
  },
  {
   "cell_type": "markdown",
   "metadata": {},
   "source": [
    "Exercise 6: Palindrome Checker\n",
    "Task: Write a function is_palindrome(s) that checks if a given string s is a palindrome."
   ]
  },
  {
   "cell_type": "code",
   "execution_count": 25,
   "metadata": {},
   "outputs": [
    {
     "name": "stdout",
     "output_type": "stream",
     "text": [
      "True\n",
      "False\n"
     ]
    }
   ],
   "source": [
    "def is_palindrome(s):\n",
    "    s = s.lower().replace(\" \",\"\")\n",
    "    return s == s[::-1]\n",
    "\n",
    "print(is_palindrome('hel locoll eH'))\n",
    "print(is_palindrome(\"aloalo\"))"
   ]
  }
 ],
 "metadata": {
  "kernelspec": {
   "display_name": ".venv",
   "language": "python",
   "name": "python3"
  },
  "language_info": {
   "codemirror_mode": {
    "name": "ipython",
    "version": 3
   },
   "file_extension": ".py",
   "mimetype": "text/x-python",
   "name": "python",
   "nbconvert_exporter": "python",
   "pygments_lexer": "ipython3",
   "version": "3.12.4"
  }
 },
 "nbformat": 4,
 "nbformat_minor": 2
}
